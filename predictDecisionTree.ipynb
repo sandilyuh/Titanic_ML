{
 "cells": [
  {
   "cell_type": "code",
   "execution_count": 52,
   "metadata": {},
   "outputs": [],
   "source": [
    "import pandas as pd\n",
    "from sklearn import tree, model_selection\n",
    "import pydot"
   ]
  },
  {
   "cell_type": "code",
   "execution_count": 18,
   "metadata": {},
   "outputs": [],
   "source": [
    "data = pd.read_csv('train.csv')"
   ]
  },
  {
   "cell_type": "code",
   "execution_count": 19,
   "metadata": {},
   "outputs": [],
   "source": [
    "#fill the null values for Fare and Age with the median vlaues\n",
    "data['Fare'] = data['Fare'].fillna(data['Fare'].dropna().median())\n",
    "data['Age'] = data['Age'].fillna(data['Age'].dropna().median())\n",
    "\n",
    "#fill all the male values as 0 and the female values as 1\n",
    "data.loc[data['Sex'] == 'male', 'Sex'] = 0\n",
    "data.loc[data['Sex'] == 'female', 'Sex'] = 1\n",
    "\n",
    "#fill all embarked null values with S (embarked loction)\n",
    "data['Embarked'] = data['Embarked'].fillna('S')\n",
    "\n",
    "data.loc[data['Embarked'] == 'S', 'Embarked'] = 0\n",
    "data.loc[data['Embarked'] == 'C', 'Embarked'] = 1\n",
    "data.loc[data['Embarked'] == 'Q', 'Embarked'] = 2"
   ]
  },
  {
   "cell_type": "code",
   "execution_count": 20,
   "metadata": {},
   "outputs": [],
   "source": [
    "target = data['Survived'].values\n",
    "feature_names = ['Pclass','Age','Fare', 'Embarked', 'Sex', 'SibSp','Parch']\n",
    "features = data[feature_names].values"
   ]
  },
  {
   "cell_type": "code",
   "execution_count": 22,
   "metadata": {},
   "outputs": [],
   "source": [
    "#decision tree classifier\n",
    "decision_tree = tree.DecisionTreeClassifier(random_state = 1)\n",
    "decision_tree_ = decision_tree.fit(features, target)"
   ]
  },
  {
   "cell_type": "code",
   "execution_count": 26,
   "metadata": {},
   "outputs": [
    {
     "name": "stdout",
     "output_type": "stream",
     "text": [
      "0.9797979797979798\n"
     ]
    }
   ],
   "source": [
    "print(decision_tree_.score(features, target))"
   ]
  },
  {
   "cell_type": "code",
   "execution_count": 38,
   "metadata": {},
   "outputs": [
    {
     "name": "stdout",
     "output_type": "stream",
     "text": [
      "[0.77777778 0.66666667 0.77777778 0.94444444 0.83333333 0.88888889\n",
      " 0.61111111 0.83333333 0.88888889 0.88888889 0.72222222 0.66666667\n",
      " 0.83333333 0.77777778 0.72222222 0.83333333 0.94444444 0.72222222\n",
      " 0.94444444 0.83333333 0.88888889 0.83333333 0.83333333 0.88888889\n",
      " 0.94444444 0.83333333 0.83333333 0.83333333 0.77777778 0.88888889\n",
      " 0.72222222 0.66666667 0.88888889 0.88888889 0.83333333 0.77777778\n",
      " 0.72222222 0.66666667 0.88888889 0.77777778 0.83333333 0.88888889\n",
      " 0.88235294 0.94117647 0.82352941 0.70588235 0.88235294 0.82352941\n",
      " 1.         0.9375    ]\n",
      "0.8243709150326798\n"
     ]
    }
   ],
   "source": [
    "scores = model_selection.cross_val_score(decision_tree, features, target, scoring='accuracy', cv=50)\n",
    "print(scores)\n",
    "print(scores.mean())"
   ]
  },
  {
   "cell_type": "code",
   "execution_count": 34,
   "metadata": {},
   "outputs": [],
   "source": [
    "#generalized decision tree classifier\n",
    "generalized_decision_tree = tree.DecisionTreeClassifier(random_state = 1, max_depth=7, min_samples_split=2)\n",
    "generalized_decision_tree_ = decision_tree.fit(features, target)"
   ]
  },
  {
   "cell_type": "code",
   "execution_count": 35,
   "metadata": {},
   "outputs": [
    {
     "name": "stdout",
     "output_type": "stream",
     "text": [
      "0.8787878787878788\n"
     ]
    }
   ],
   "source": [
    "print(generalized_decision_tree_.score(features, target))"
   ]
  },
  {
   "cell_type": "code",
   "execution_count": 37,
   "metadata": {},
   "outputs": [
    {
     "name": "stdout",
     "output_type": "stream",
     "text": [
      "[0.71111111 0.81111111 0.74157303 0.78651685 0.80898876 0.76404494\n",
      " 0.82022472 0.79775281 0.82022472 0.84090909]\n",
      "0.7902457155827942\n"
     ]
    }
   ],
   "source": [
    "generalized_scores = model_selection.cross_val_score(generalized_decision_tree, features, target, scoring='accuracy', cv=50)\n",
    "print(scores)\n",
    "print(scores.mean())"
   ]
  },
  {
   "cell_type": "code",
   "execution_count": 47,
   "metadata": {},
   "outputs": [],
   "source": [
    "tree.export_graphviz(generalized_decision_tree_, feature_names=feature_names, out_file='generalized_tree.dot')"
   ]
  },
  {
   "cell_type": "code",
   "execution_count": 55,
   "metadata": {},
   "outputs": [
    {
     "data": {
      "text/plain": [
       "\"\\n(graph,) = pydot.graph_from_dot_file('generalized_tree.dot')\\ngraph.write_png('generalized_tree.png')\\n\""
      ]
     },
     "execution_count": 55,
     "metadata": {},
     "output_type": "execute_result"
    }
   ],
   "source": [
    "'''\n",
    "(graph,) = pydot.graph_from_dot_file('generalized_tree.dot')\n",
    "graph.write_png('generalized_tree.png')\n",
    "'''"
   ]
  },
  {
   "cell_type": "code",
   "execution_count": null,
   "metadata": {},
   "outputs": [],
   "source": []
  }
 ],
 "metadata": {
  "kernelspec": {
   "display_name": "Python 3",
   "language": "python",
   "name": "python3"
  },
  "language_info": {
   "codemirror_mode": {
    "name": "ipython",
    "version": 3
   },
   "file_extension": ".py",
   "mimetype": "text/x-python",
   "name": "python",
   "nbconvert_exporter": "python",
   "pygments_lexer": "ipython3",
   "version": "3.6.5"
  }
 },
 "nbformat": 4,
 "nbformat_minor": 2
}
